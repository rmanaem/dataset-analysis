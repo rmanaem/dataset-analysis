{
 "cells": [
  {
   "cell_type": "code",
   "execution_count": 1,
   "id": "immune-status",
   "metadata": {},
   "outputs": [],
   "source": [
    "import csv\n",
    "import os\n",
    "import sys\n",
    "import random\n",
    "import string\n",
    "import numpy as np\n",
    "import pandas as pd\n",
    "import pyspark\n",
    "import matplotlib.pyplot as plt\n",
    "import matplotlib.colors as mcolors\n",
    "from matplotlib import rc\n",
    "import seaborn as sns\n",
    "from sklearn.metrics import f1_score\n",
    "from sklearn.model_selection import KFold\n",
    "from sklearn.neighbors import KNeighborsClassifier\n",
    "from sklearn.ensemble import RandomForestClassifier\n",
    "from pyspark.ml.feature import HashingTF, IDF, Tokenizer\n",
    "from pyspark.sql import SQLContext\n",
    "from pyspark.rdd import RDD\n",
    "from pyspark.sql import Row\n",
    "from pyspark.sql import DataFrame\n",
    "from pyspark.sql import SparkSession\n",
    "from pyspark.sql.functions import desc, size, max, abs\n",
    "\n",
    "# Initialize a spark session\n",
    "spark = SparkSession \\\n",
    "    .builder \\\n",
    "    .appName(\"Veracity Detection\") \\\n",
    "    .config(\"spark.some.config.option\", \"some-value\") \\\n",
    "    .getOrCreate()\n",
    "\n",
    "# matplotlib inline backend\n",
    "%matplotlib inline"
   ]
  },
  {
   "cell_type": "markdown",
   "id": "white-fields",
   "metadata": {},
   "source": [
    "## Data Preprocessing \n",
    "- Data sampling \n",
    "- Data cleaning \n",
    "- Data preparation and formatting\n",
    "- Feature extraction"
   ]
  },
  {
   "cell_type": "markdown",
   "id": "greek-canberra",
   "metadata": {},
   "source": [
    "#### Imbalanced Sampling of Data"
   ]
  },
  {
   "cell_type": "code",
   "execution_count": 263,
   "id": "prospective-scope",
   "metadata": {},
   "outputs": [],
   "source": [
    "# Label the datasets, remove unncessary fields, sample and save the samples\n",
    "\n",
    "# This imbalanced sample will favor the fake label with a ratio of 2 to 1\n",
    "fake = pd.read_csv('../data/Fake.csv')\n",
    "fake['label'] = 'Fake'\n",
    "fake = fake.drop(columns=['date', 'subject'])\n",
    "fake = fake.sample(3050)\n",
    "true = pd.read_csv('../data/True.csv')\n",
    "true['label'] = 'True'\n",
    "true = true.drop(columns=['date', 'subject'])\n",
    "true = true.sample(1475)\n",
    "\n",
    "# Uncomment and run the cell to save the sample\n",
    "# fake.to_csv(\"../data/Imbalanced_Sample1_Fake.csv\", index=False, header=None)\n",
    "# true.to_csv(\"../data/Imbalanced_Sample1_True.csv\", index=False, header=None)\n",
    "\n",
    "# This imbalanced sample will favor the fake label with a ratio of 2 to 1\n",
    "fake = pd.read_csv(\"../data/Fake.csv\")\n",
    "fake['label'] = 'Fake'\n",
    "fake = fake.drop(columns=[\"date\", \"subject\"])\n",
    "fake = fake.sample(21000)\n",
    "true = pd.read_csv(\"../data/True.csv\")\n",
    "true['label'] = 'True'\n",
    "true = true.drop(columns=[\"date\", \"subject\"])\n",
    "true = true.sample(10000)\n",
    "\n",
    "# Uncomment and run the cell to save the sample\n",
    "# fake.to_csv(\"../data/Imbalanced_Sample2_Fake.csv\", index=False, header=None)\n",
    "# true.to_csv(\"../data/Imbalanced_Sample2_True.csv\", index=False, header=None)\n",
    "\n",
    "# This imbalanced sample favors the true label with ratio of 2 to 1\n",
    "fake = pd.read_csv(\"../data/Fake.csv\")\n",
    "fake['label'] = 'Fake'\n",
    "fake = fake.drop(columns=[\"date\", \"subject\"])\n",
    "fake = fake.sample(11000)\n",
    "true = pd.read_csv(\"../data/True.csv\")\n",
    "true['label'] = 'True'\n",
    "true = true.drop(columns=[\"date\", \"subject\"])\n",
    "true = true.sample(20000)\n",
    "\n",
    "# Uncomment and run the cell to save the sample\n",
    "# fake.to_csv(\"../data/Imbalanced_Sample3_Fake.csv\", index=False, header=None)\n",
    "# true.to_csv(\"../data/Imbalanced_Sample3_True.csv\", index=False, header=None)\n",
    "\n",
    "# All the data with imbalance of ~10% favoring fake class\n",
    "fake = pd.read_csv('../data/Fake.csv')\n",
    "fake['label'] = 'Fake'\n",
    "fake = fake.drop(columns=['date', 'subject'])\n",
    "true = pd.read_csv('../data/True.csv')\n",
    "true['label'] = 'True'\n",
    "true = true.drop(columns=['date', 'subject'])\n",
    "\n",
    "# Uncomment and run the cell to save the sample\n",
    "fake.to_csv(\"../data/Imbalanced_Sample4_Fake.csv\", index=False, header=None)\n",
    "true.to_csv(\"../data/Imbalanced_Sample4_True.csv\", index=False, header=None)"
   ]
  },
  {
   "cell_type": "markdown",
   "id": "foreign-permit",
   "metadata": {},
   "source": [
    "#### Balanced Sampling of Data"
   ]
  },
  {
   "cell_type": "code",
   "execution_count": 204,
   "id": "vocal-packet",
   "metadata": {},
   "outputs": [],
   "source": [
    "# Label the datasets, remove unncessary fields, sample and save the samples\n",
    "\n",
    "# 10% balanced sample\n",
    "fake = pd.read_csv(\"../data/Fake.csv\")\n",
    "fake['label'] = 'Fake'\n",
    "fake = fake.drop(columns=[\"date\", \"subject\"])\n",
    "fake = fake.sample(2300)\n",
    "true = pd.read_csv(\"../data/True.csv\")\n",
    "true['label'] = 'True'\n",
    "true = true.drop(columns=[\"date\", \"subject\"])\n",
    "true = true.sample(2200)\n",
    "\n",
    "# Uncomment and run the cell to save the sample\n",
    "# fake.to_csv(\"../data/Balanced_Sample1_Fake.csv\", index=False, header=None)\n",
    "# true.to_csv(\"../data/Balanced_Sample1_True.csv\", index=False, header=None)\n",
    "\n",
    "fake = pd.read_csv(\"../data/Fake.csv\")\n",
    "fake['label'] = 'Fake'\n",
    "fake = fake.drop(columns=[\"date\", \"subject\"])\n",
    "fake = fake.sample(15750)\n",
    "true = pd.read_csv(\"../data/True.csv\")\n",
    "true['label'] = 'True'\n",
    "true = true.drop(columns=[\"date\", \"subject\"])\n",
    "true = true.sample(15000)\n",
    "\n",
    "# Uncomment and run the cell to save the sample\n",
    "# fake.to_csv(\"../data/Balanced_Sample2_Fake.csv\", index=False, header=None)\n",
    "# true.to_csv(\"../data/Balanced_Sample2_True.csv\", index=False, header=None)\n",
    "\n",
    "# Largest(~ 41000) balanced sample\n",
    "fake = pd.read_csv(\"../data/Fake.csv\")\n",
    "fake['label'] = 'Fake'\n",
    "fake = fake.drop(columns=[\"date\", \"subject\"])\n",
    "fake = fake.sample(22000)\n",
    "true = pd.read_csv(\"../data/True.csv\")\n",
    "true['label'] = 'True'\n",
    "true = true.drop(columns=[\"date\", \"subject\"])\n",
    "true = true.sample(21000)\n",
    "\n",
    "# Uncomment and run the cell to save the sample\n",
    "# fake.to_csv(\"../data/Balanced_Sample3_Fake.csv\", index=False, header=None)\n",
    "# true.to_csv(\"../data/Balanced_Sample3_True.csv\", index=False, header=None)"
   ]
  },
  {
   "cell_type": "markdown",
   "id": "thrown-asian",
   "metadata": {},
   "source": [
    "#### Collecting Stop Words\n",
    "Stop words were extracted from nltk, python string module and the articles themselves"
   ]
  },
  {
   "cell_type": "code",
   "execution_count": 301,
   "id": "close-bulletin",
   "metadata": {},
   "outputs": [],
   "source": [
    "with open('../data/stop_punc.txt', 'r') as file:\n",
    "    stop_punc = file.read()\n",
    "stop_punc = stop_punc.split(',')\n",
    "stop_punc = list(set(stop_punc))\n",
    "stop_punc.append(',')"
   ]
  },
  {
   "cell_type": "markdown",
   "id": "micro-climb",
   "metadata": {},
   "source": [
    "#### Data Cleaning and Formatting"
   ]
  },
  {
   "cell_type": "code",
   "execution_count": 309,
   "id": "structural-characteristic",
   "metadata": {},
   "outputs": [],
   "source": [
    "fake_file = '../data/Balanced_Sample2_Fake.csv'\n",
    "true_file = '../data/Balanced_Sample2_True.csv'\n",
    "\n",
    "# Filtering datapoints with missing features\n",
    "fake_rdd = spark.read.csv(fake_file).rdd\n",
    "fake_rdd = fake_rdd.filter(lambda x: x[0] is not None and x[1] is not None).map(lambda x: (x[0] + ' ' + x[1], x[2])).filter(lambda x: x[1]=='Fake')\n",
    "n_fake = fake_rdd.count()\n",
    "true_rdd = spark.read.csv(true_file).rdd\n",
    "true_rdd = true_rdd.filter(lambda x: x[0] is not None and x[1] is not None).map(lambda x: (x[0] + ' ' + x[1], x[2])).filter(lambda x: x[1]=='True')\n",
    "n_true = true_rdd.count()\n",
    "\n",
    "# Tokenizing articles and removing stop words from the article\n",
    "tokenizer = Tokenizer(inputCol=\"article\", outputCol=\"words\")\n",
    "fake_rdd = fake_rdd.map(lambda x: Row(article=x[0], label=x[1]))\n",
    "fake_df = spark.createDataFrame(fake_rdd)\n",
    "fake_df = tokenizer.transform(fake_df)\n",
    "fake_rdd = fake_df.rdd.map(lambda x: (x[0], [i for i in x[2] if i not in stop_punc], x[1]))\n",
    "true_rdd = true_rdd.map(lambda x:Row(article=x[0], label=x[1]))\n",
    "true_df = spark.createDataFrame(true_rdd)\n",
    "true_df = tokenizer.transform(true_df)\n",
    "true_rdd = true_df.rdd.map(lambda x: (x[0], [i for i in x[2] if i not in stop_punc], x[1]))"
   ]
  },
  {
   "cell_type": "markdown",
   "id": "statutory-annual",
   "metadata": {},
   "source": [
    "#### Feature Extraction Using TFIDF"
   ]
  },
  {
   "cell_type": "code",
   "execution_count": 310,
   "id": "joined-bubble",
   "metadata": {},
   "outputs": [],
   "source": [
    "n_features = 10\n",
    "\n",
    "fake_rdd = fake_rdd.map(lambda x: (x[1], x[2])).map(lambda x: Row(words=x[0], label=x[1]))\n",
    "fake_df = spark.createDataFrame(fake_rdd)\n",
    "hashingTF = HashingTF(inputCol='words', outputCol='rawFeatures', numFeatures=n_features)\n",
    "fake_df = hashingTF.transform(fake_df)\n",
    "idf = IDF(inputCol='rawFeatures', outputCol='features')\n",
    "idfModel = idf.fit(fake_df)\n",
    "fake_df = idfModel.transform(fake_df)\n",
    "fake_rdd = fake_df.rdd.map(lambda x: (x[3], x[1])).map(lambda x: ([np.take(x[0], i) for i in range(np.size(x[0]))], x[1]))\n",
    "\n",
    "true_rdd = true_rdd.map(lambda x: (x[1], x[2])).map(lambda x: Row(words=x[0], label=x[1]))\n",
    "true_df = spark.createDataFrame(true_rdd)\n",
    "hashingTF = HashingTF(inputCol='words', outputCol='rawFeatures', numFeatures=n_features)\n",
    "true_df = hashingTF.transform(true_df)\n",
    "idf = IDF(inputCol='rawFeatures', outputCol='features')\n",
    "idfModel = idf.fit(true_df)\n",
    "true_df = idfModel.transform(true_df)\n",
    "true_rdd = true_df.rdd.map(lambda x: (x[3], x[1])).map(lambda x: ([np.take(x[0], i) for i in range(np.size(x[0]))], x[1]))\n",
    "\n",
    "\n",
    "fake = fake_rdd.collect()\n",
    "true = true_rdd.collect()"
   ]
  },
  {
   "cell_type": "markdown",
   "id": "frank-shelter",
   "metadata": {},
   "source": [
    "### Defining Training and Test Sets Using KFold Cross Validation\n",
    "Only run one of the two cells below"
   ]
  },
  {
   "cell_type": "code",
   "execution_count": 311,
   "id": "republican-routine",
   "metadata": {},
   "outputs": [],
   "source": [
    "# Defining folds with stratification\n",
    "stratification = True\n",
    "kf = KFold(n_splits=5, shuffle=True, random_state=123)\n",
    "fake_data = []\n",
    "for train_index, test_index in kf.split(fake):\n",
    "    train = []\n",
    "    test = []\n",
    "    for i in train_index:\n",
    "        train.append(fake[i])\n",
    "    for i in test_index:\n",
    "        test.append(fake[i])\n",
    "    fake_data.append((train, test))\n",
    "true_data = []\n",
    "for train_index, test_index in kf.split(true):\n",
    "    train = []\n",
    "    test = []\n",
    "    for i in train_index:\n",
    "        train.append(true[i])\n",
    "    for i in test_index:\n",
    "        test.append(true[i])\n",
    "    true_data.append((train, test))\n",
    "data = []\n",
    "for i in range(len(fake_data)):\n",
    "    true_data[i][0].extend(fake_data[i][0])\n",
    "    true_data[i][1].extend(fake_data[i][1])\n",
    "data = true_data"
   ]
  },
  {
   "cell_type": "code",
   "execution_count": 294,
   "id": "formed-machinery",
   "metadata": {},
   "outputs": [],
   "source": [
    "# Defining folds without stratification\n",
    "stratification = False\n",
    "fake.extend(true)\n",
    "random.seed(123)\n",
    "random.shuffle(fake)\n",
    "fake_true = fake\n",
    "data = []\n",
    "kf = KFold(n_splits=5, shuffle=True, random_state=123)\n",
    "for train_index, test_index in kf.split(fake_true):\n",
    "    train = []\n",
    "    test = []\n",
    "    for i in train_index:\n",
    "        train.append(fake_true[i])\n",
    "    for i in test_index:\n",
    "        test.append(fake_true[i])\n",
    "    data.append((train, test))"
   ]
  },
  {
   "cell_type": "markdown",
   "id": "direct-drove",
   "metadata": {},
   "source": [
    "### Classification Using KNN Classifier"
   ]
  },
  {
   "cell_type": "code",
   "execution_count": 312,
   "id": "appointed-relationship",
   "metadata": {},
   "outputs": [
    {
     "name": "stdout",
     "output_type": "stream",
     "text": [
      "Classification of 29911 datapoints containing\n",
      "14979 fake datapoints\n",
      "14932 true datapoints\n",
      "With stratification Using KNN classifier and 5fold cross validation resulted in average f1 score of 0.9924901421731749\n"
     ]
    }
   ],
   "source": [
    "knn = KNeighborsClassifier(n_neighbors=10)\n",
    "knn_accuracy = []\n",
    "knn_predict = []\n",
    "knn_f1 = []\n",
    "for i in range(len(data)):\n",
    "    knn.fit([j[0] for j in data[i][0]], [j[1] for j in data[i][0]])\n",
    "    knn_accuracy.append(knn.score([j[0] for j in data[i][1]], [j[1] for j in data[i][1]]))\n",
    "    knn_predict.append(knn.predict([j[0] for j in data[i][1]]))\n",
    "for i in range(len(predict)):\n",
    "    knn_f1.append(f1_score([j[1] for j in data[i][1]], knn_predict[i].tolist(), pos_label=\"True\"))\n",
    "knn_average_f1 = sum(knn_f1)/len(knn_f1)\n",
    "\n",
    "# KNN Result\n",
    "print('Classification of', n_fake + n_true, 'datapoints containing')\n",
    "print(n_fake, 'fake datapoints')\n",
    "print(n_true, 'true datapoints')\n",
    "if stratification:\n",
    "    print('With stratification', end = ' ')\n",
    "else:\n",
    "    print('Without stratificaiton', end = ' ')\n",
    "print('Using KNN classifier and 5fold cross validation resulted in average f1 score of', knn_average_f1)"
   ]
  },
  {
   "cell_type": "markdown",
   "id": "choice-vision",
   "metadata": {},
   "source": [
    "### Classification Using Random Forest Classifier"
   ]
  },
  {
   "cell_type": "code",
   "execution_count": 313,
   "id": "ultimate-stationery",
   "metadata": {},
   "outputs": [
    {
     "name": "stdout",
     "output_type": "stream",
     "text": [
      "Classification of 29911 datapoints containing: \n",
      "14979 fake datapoints\n",
      "14932 true datapoints\n",
      "With stratification Using random forest classifier with 45 trees, max depth of 20 and 5fold cross validation resulted in average f1 score of 0.9999330207616852\n"
     ]
    }
   ],
   "source": [
    "n_trees = 45\n",
    "max_depth = 20\n",
    "rf = RandomForestClassifier(n_estimators=n_trees, max_depth=max_depth, random_state=123)\n",
    "rf_accuracy = []\n",
    "rf_predict = []\n",
    "rf_f1 = []\n",
    "for i in range(len(data)):\n",
    "    rf.fit([j[0] for j in data[i][0]], [j[1] for j in data[i][0]])\n",
    "    rf_accuracy.append(rf.score([j[0] for j in data[i][1]], [j[1] for j in data[i][1]]))\n",
    "    rf_predict.append(rf.predict([j[0] for j in data[i][1]]))\n",
    "for i in range(len(predict)):\n",
    "    rf_f1.append(f1_score([j[1] for j in data[i][1]], rf_predict[i].tolist(), pos_label=\"True\"))\n",
    "rf_average_f1 = sum(rf_f1)/len(rf_f1)\n",
    "\n",
    "# Result\n",
    "print('Classification of', n_fake + n_true, 'datapoints containing: ')\n",
    "print(n_fake, 'fake datapoints')\n",
    "print(n_true, 'true datapoints')\n",
    "if stratification:\n",
    "    print('With stratification', end = ' ')\n",
    "else:\n",
    "    print('Without stratificaiton', end = ' ')\n",
    "print('Using random forest classifier with', n_trees, 'trees, max depth of', max_depth, 'and 5fold cross validation resulted in average f1 score of', rf_average_f1)"
   ]
  },
  {
   "cell_type": "markdown",
   "id": "dress-circus",
   "metadata": {},
   "source": [
    "### Plots"
   ]
  },
  {
   "cell_type": "code",
   "execution_count": 57,
   "id": "efficient-campbell",
   "metadata": {},
   "outputs": [
    {
     "data": {
      "text/plain": [
       "Text(0.5, 1.0, 'Effect of Data Imbalance')"
      ]
     },
     "execution_count": 57,
     "metadata": {},
     "output_type": "execute_result"
    },
    {
     "data": {
      "image/png": "[encoded data removed]",
      "text/plain": [
       "<Figure size 432x288 with 1 Axes>"
      ]
     },
     "metadata": {
      "needs_background": "light"
     },
     "output_type": "display_data"
    },
    {
     "data": {
      "image/png": "[encoded data removed]",
      "text/plain": [
       "<Figure size 432x288 with 1 Axes>"
      ]
     },
     "metadata": {
      "needs_background": "light"
     },
     "output_type": "display_data"
    },
    {
     "data": {
      "image/png": "[encoded data removed]",
      "text/plain": [
       "<Figure size 432x288 with 1 Axes>"
      ]
     },
     "metadata": {
      "needs_background": "light"
     },
     "output_type": "display_data"
    }
   ],
   "source": [
    "marker = '.'\n",
    "markersize = 10\n",
    "dpi = 300\n",
    "# Plot for visualizing classifier sensitivity to features\n",
    "# Data is derived from running tests on the Balanced_Sample2\n",
    "y = [10, 15, 20, 25, 30, 35, 40, 45, 50]\n",
    "knn_x = [0.99186491956141, 0.983915681661064, 0.978612415730856, 0.971100546536879, 0.965874003556011, 0.951946249464952, 0.942501584979348, 0.918441982272896, 0.870144989111527]\n",
    "rf_x = [0.999880419964672, 0.999928249690847, 0.999976085136912, 0.999976085136912, 0.999976085136912, 0.999904346265489, 0.999928255410737, 0.999976085136912, 0.999952170273825]\n",
    "fig = plt.figure()\n",
    "ax = fig.add_axes([0,0,1,1])\n",
    "ax.plot(y, knn_x, color='#556B2F', lw=2)\n",
    "ax.plot(y, rf_x, color='#B8860B', lw=2)\n",
    "ax.legend(['KNN', 'RF'], bbox_to_anchor = (1.0, 1.0), loc='upper left')\n",
    "ax.set_xlabel('Number of Features')\n",
    "ax.set_ylabel('Average F1_Score')\n",
    "ax.set_title('Classifier Sensitivity to Features')\n",
    "# fig.savefig('../figures/classifier_sensitivity_to_features.png', bbox_inches='tight', dpi=dpi)\n",
    "\n",
    "# visualizing the performance difference of the classifiers on the whole dataset (imbalance of ~10%)\n",
    "folds = [1, 2, 3, 4, 5]\n",
    "knn = [0.9910287778166142, 0.9907364520611394,0.9932179607109448, 0.9918736408378162, 0.9928125368210204]\n",
    "rf = [1.0, 1.0, 0.9998822559755093, 1.0, 0.9996440014239943]\n",
    "fig = plt.figure()\n",
    "ax = fig.add_axes([0,0,1,1])\n",
    "ax.plot(folds, knn, color='#8B0000', lw=2)\n",
    "ax.plot(folds, rf, color='#44546A', lw=2)\n",
    "ax.legend(['KNN', 'RF'], bbox_to_anchor = (1.0, 1.0), loc='upper left')\n",
    "ax.set_xlabel('Fold')\n",
    "ax.set_ylabel('F1_Score')\n",
    "ax.set_title('Classfier Performance')\n",
    "# fig.savefig('../figures/classifier_performance.png', bbox_inches='tight', dpi=dpi)\n",
    "\n",
    "# Visualizing the effect of data Imbalance with ~30000 datapoints\n",
    "folds = [1, 2, 3, 4, 5]\n",
    "im_knn = [0.9859085290482076, 0.9834771886559803, 0.9898187236155948, 0.9861454725383474, 0.9846837944664031]\n",
    "ba_knn = [0.9941754035613247, 0.9913707268503154, 0.9916971105944868, 0.9928512053200332, 0.9923562645397142]\n",
    "im_rf = [1.0, 1.0, 1.0, 0.9992479318124844, 0.9997490589711417]\n",
    "ba_rf = [1.0, 0.9998325799430772, 1.0, 1.0, 0.9998325238653493]\n",
    "fig = plt.figure()\n",
    "ax = fig.add_axes([0,0,1,1])\n",
    "ax.plot(folds, im_knn, color='#8B0000', lw=2, marker=marker, markersize=markersize)\n",
    "ax.plot(folds, ba_knn, color='#44546A', lw=2, marker=marker, markersize=markersize)\n",
    "ax.plot(folds, im_rf, color='#556B2F', lw=2, marker=marker, markersize=markersize)\n",
    "ax.plot(folds, ba_rf, color='#B8860B', lw=2, marker=marker, markersize=markersize)\n",
    "ax.legend(['Imbalanced KNN', 'KNN', 'Imbalanced RF', 'RF'], bbox_to_anchor = (1.0, 1.0), loc='upper left')\n",
    "ax.set_xlabel('Fold')\n",
    "ax.set_ylabel('F1 Score')\n",
    "ax.set_title('Effect of Data Imbalance')\n",
    "# fig.savefig('../figures/effect_of_data_imbalance.png', bbox_inches='tight', dpi=dpi)"
   ]
  },
  {
   "cell_type": "code",
   "execution_count": null,
   "id": "sealed-monte",
   "metadata": {},
   "outputs": [],
   "source": []
  }
 ],
 "metadata": {
  "kernelspec": {
   "display_name": "Python 3",
   "language": "python",
   "name": "python3"
  },
  "language_info": {
   "codemirror_mode": {
    "name": "ipython",
    "version": 3
   },
   "file_extension": ".py",
   "mimetype": "text/x-python",
   "name": "python",
   "nbconvert_exporter": "python",
   "pygments_lexer": "ipython3",
   "version": "3.6.13"
  }
 },
 "nbformat": 4,
 "nbformat_minor": 5
}
